{
 "cells": [
  {
   "cell_type": "markdown",
   "source": [],
   "metadata": {
    "collapsed": false,
    "pycharm": {
     "name": "#%% md\n"
    }
   }
  },
  {
   "cell_type": "code",
   "source": [
    "import pandas as pd\n",
    "from sklearn.ensemble import RandomForestClassifier\n",
    "from sklearn.model_selection import train_test_split, RandomizedSearchCV\n",
    "from sklearn.feature_extraction.text import CountVectorizer, TfidfVectorizer\n",
    "from sklearn.metrics import accuracy_score, precision_score,recall_score, confusion_matrix,  roc_auc_score\n",
    "import numpy as np\n",
    "import time\n",
    "import pickle\n",
    "\"Own made libraries\"\n",
    "import database as db\n",
    "import scrapping.scrapperSelenium as scrapperSelenium\n",
    "import scrapping.scrapperSoup as scrapperSoup\n",
    "import textCleaning as tc\n",
    "import model.buildmodel as build\n",
    "import scrapping.scrapperSelenium as selenium\n",
    "import scrapping.scrapperSoup as soup"
   ],
   "metadata": {
    "collapsed": false,
    "pycharm": {
     "name": "#%%\n"
    }
   },
   "execution_count": 1,
   "outputs": [
    {
     "name": "stderr",
     "output_type": "stream",
     "text": [
      "[nltk_data] Downloading package wordnet to C:\\Users\\Roy\n",
      "[nltk_data]     Dijkstra\\AppData\\Roaming\\nltk_data...\n",
      "[nltk_data]   Package wordnet is already up-to-date!\n",
      "[nltk_data] Downloading package stopwords to C:\\Users\\Roy\n",
      "[nltk_data]     Dijkstra\\AppData\\Roaming\\nltk_data...\n",
      "[nltk_data]   Package stopwords is already up-to-date!\n",
      "[nltk_data] Downloading package omw-1.4 to C:\\Users\\Roy\n",
      "[nltk_data]     Dijkstra\\AppData\\Roaming\\nltk_data...\n",
      "[nltk_data]   Package omw-1.4 is already up-to-date!\n"
     ]
    }
   ]
  },
  {
   "cell_type": "code",
   "execution_count": 5,
   "outputs": [
    {
     "name": "stderr",
     "output_type": "stream",
     "text": [
      "\n",
      "\n",
      "====== WebDriver manager ======\n",
      "Current google-chrome version is 99.0.4844\n",
      "Get LATEST chromedriver version for 99.0.4844 google-chrome\n",
      "Trying to download new driver from https://chromedriver.storage.googleapis.com/99.0.4844.51/chromedriver_win32.zip\n",
      "Driver has been saved in cache [C:\\Users\\Roy Dijkstra\\.wdm\\drivers\\chromedriver\\win32\\99.0.4844.51]\n"
     ]
    },
    {
     "name": "stdout",
     "output_type": "stream",
     "text": [
      "Scrapping done, adding labels\n"
     ]
    }
   ],
   "source": [
    "link = \"https://www.tripadvisor.com/Hotel_Review-g14129477-d10426242-Reviews-HOSHINOYA_Tokyo-Otemachi_Chiyoda_Tokyo_Tokyo_Prefecture_Kanto.html\"\n",
    "scrappedReviews = selenium.selenium_scrapper_tripadvisor(link, 20)"
   ],
   "metadata": {
    "collapsed": false,
    "pycharm": {
     "name": "#%%\n"
    }
   }
  },
  {
   "cell_type": "code",
   "execution_count": 12,
   "outputs": [],
   "source": [
    "df = soup.soup_scrapper_booking(\"https://www.booking.com/reviews/nl/hotel/westcord-city-centre.en-gb.html\", num_of_pages=10)"
   ],
   "metadata": {
    "collapsed": false,
    "pycharm": {
     "name": "#%%\n"
    }
   }
  },
  {
   "cell_type": "code",
   "execution_count": 3,
   "outputs": [],
   "source": [
    "dfReviewsOwn = pd.read_csv('data/own_reviews.csv')\n",
    "dfReviewsOwn = tc.own_label_data(dfReviewsOwn)\n",
    "dfReviewsOwn = tc.clean_data(dfReviewsOwn)"
   ],
   "metadata": {
    "collapsed": false,
    "pycharm": {
     "name": "#%%\n"
    }
   }
  },
  {
   "cell_type": "code",
   "execution_count": 2,
   "outputs": [],
   "source": [
    "dfTrip = pd.read_csv('data/trip_reviews.csv')\n",
    "dfBooking = pd.read_csv('data/booking_reviews.csv')\n",
    "dfHotels = pd.concat([dfBooking, dfTrip], ignore_index=True)\n",
    "dfHotels = tc.clean_hotel_data(dfHotels)"
   ],
   "metadata": {
    "collapsed": false,
    "pycharm": {
     "name": "#%%\n"
    }
   }
  },
  {
   "cell_type": "code",
   "execution_count": 4,
   "outputs": [
    {
     "name": "stderr",
     "output_type": "stream",
     "text": [
      "E:\\Roy Dijkstra\\School\\BigData\\BDSE\\Individual_Assignment_1\\textCleaning.py:24: SettingWithCopyWarning: \n",
      "A value is trying to be set on a copy of a slice from a DataFrame.\n",
      "Try using .loc[row_indexer,col_indexer] = value instead\n",
      "\n",
      "See the caveats in the documentation: https://pandas.pydata.org/pandas-docs/stable/user_guide/indexing.html#returning-a-view-versus-a-copy\n",
      "  dfStrippedReviews[\"Review\"] = dfReviews[\"Negative_Review\"].apply(lambda x: x.replace(\"No Negative\", \"\")) + \\\n"
     ]
    }
   ],
   "source": [
    "dfKaggle = pd.read_csv(\"data/Hotel_Reviews.csv\")\n",
    "dfKaggle = tc.kaggle_strip_reviews(dfKaggle)\n",
    "dfKaggle = tc.kaggle_label_data(dfKaggle)\n",
    "dfKaggle = tc.clean_data(dfKaggle)\n"
   ],
   "metadata": {
    "collapsed": false,
    "pycharm": {
     "name": "#%%\n"
    }
   }
  },
  {
   "cell_type": "code",
   "execution_count": 5,
   "outputs": [],
   "source": [
    "dfCombined = pd.concat([dfKaggle, dfHotels, dfReviewsOwn], ignore_index=True)"
   ],
   "metadata": {
    "collapsed": false,
    "pycharm": {
     "name": "#%%\n"
    }
   }
  },
  {
   "cell_type": "code",
   "execution_count": 6,
   "outputs": [
    {
     "name": "stdout",
     "output_type": "stream",
     "text": [
      "Inserting data into database per 10000 rows\n"
     ]
    }
   ],
   "source": [
    "db.insert_df_into_db(dfCombined, 'cleanedhoteldata', 'replace')"
   ],
   "metadata": {
    "collapsed": false,
    "pycharm": {
     "name": "#%%\n"
    }
   }
  },
  {
   "cell_type": "code",
   "execution_count": 48,
   "outputs": [],
   "source": [
    "X = dfCombined['lemReviews']\n",
    "y = dfCombined['label']"
   ],
   "metadata": {
    "collapsed": false,
    "pycharm": {
     "name": "#%%\n"
    }
   }
  },
  {
   "cell_type": "code",
   "execution_count": 17,
   "outputs": [],
   "source": [
    "X_train, X_test, y_train, y_test = train_test_split(X, y, test_size=0.20, random_state=69)\n",
    "\n",
    "vect = CountVectorizer(max_features=1000)\n",
    "X_train_vect = vect.fit_transform(X_train)\n",
    "X_test_vect = vect.transform(X_test)"
   ],
   "metadata": {
    "collapsed": false,
    "pycharm": {
     "name": "#%%\n"
    }
   }
  },
  {
   "cell_type": "code",
   "execution_count": 40,
   "outputs": [],
   "source": [
    "model = pickle.load(open('model/saved/finalized_lr_model_best_params2.sav', 'rb'))"
   ],
   "metadata": {
    "collapsed": false,
    "pycharm": {
     "name": "#%%\n"
    }
   }
  },
  {
   "cell_type": "code",
   "execution_count": 49,
   "outputs": [
    {
     "name": "stdout",
     "output_type": "stream",
     "text": [
      "Accuracy: 98.18%\n",
      "Confusion Matrix:\n",
      " [[ 33553   6939]\n",
      " [  2469 473233]]\n",
      "AUC: \n",
      " 0.9812581689297968\n",
      "Precision: \n",
      " 0.9813058966645906\n",
      "Recall: \n",
      " 0.9817742941607225\n"
     ]
    }
   ],
   "source": [
    "vect = pickle.load(open('model/saved/lrvect.sav', 'rb'))\n",
    "\n",
    "X_test_vect = vect.transform(X)\n",
    "y_pred = model.predict(X_test_vect)\n",
    "y_prob = model.predict_proba(X_test_vect)[::, 1]\n",
    "print(\"Accuracy: {:.2f}%\".format(accuracy_score(y, y_pred) * 100))\n",
    "print(\"Confusion Matrix:\\n\", confusion_matrix(y, y_pred))\n",
    "print(\"AUC: \\n\", roc_auc_score(y, y_prob))\n",
    "print(\"Precision: \\n\", precision_score(y, y_pred, average='weighted'))\n",
    "print(\"Recall: \\n\", recall_score(y, y_pred, average='weighted'))"
   ],
   "metadata": {
    "collapsed": false,
    "pycharm": {
     "name": "#%%\n"
    }
   }
  }
 ],
 "metadata": {
  "kernelspec": {
   "display_name": "Python 3",
   "language": "python",
   "name": "python3"
  },
  "language_info": {
   "codemirror_mode": {
    "name": "ipython",
    "version": 2
   },
   "file_extension": ".py",
   "mimetype": "text/x-python",
   "name": "python",
   "nbconvert_exporter": "python",
   "pygments_lexer": "ipython2",
   "version": "2.7.6"
  }
 },
 "nbformat": 4,
 "nbformat_minor": 0
}