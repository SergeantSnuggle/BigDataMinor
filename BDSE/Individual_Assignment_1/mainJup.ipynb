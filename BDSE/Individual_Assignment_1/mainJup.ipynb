{
 "cells": [
  {
   "cell_type": "markdown",
   "source": [],
   "metadata": {
    "collapsed": false,
    "pycharm": {
     "name": "#%% md\n"
    }
   }
  },
  {
   "cell_type": "code",
   "source": [
    "import pandas as pd\n",
    "from sklearn.ensemble import RandomForestClassifier\n",
    "from sklearn.model_selection import train_test_split, RandomizedSearchCV\n",
    "from sklearn.feature_extraction.text import CountVectorizer, TfidfVectorizer\n",
    "from sklearn.metrics import accuracy_score, precision_score,recall_score, confusion_matrix,  roc_auc_score\n",
    "import numpy as np\n",
    "import time\n",
    "import pickle\n",
    "\"Own made libraries\"\n",
    "import database as db\n",
    "import scrapping.scrapperSelenium as scrapperSelenium\n",
    "import scrapping.scrapperSoup as scrapperSoup\n",
    "import textCleaning as tc\n",
    "import model.buildmodel as build\n",
    "import scrapping.scrapperSoup as soup"
   ],
   "metadata": {
    "collapsed": false,
    "pycharm": {
     "name": "#%%\n"
    }
   },
   "execution_count": 21,
   "outputs": []
  },
  {
   "cell_type": "code",
   "execution_count": 4,
   "outputs": [],
   "source": [
    "dfReviewsDb = db.retrieve_table_into_df('cleanedhoteldata')\n",
    "X = dfReviewsDb[\"lemReviews\"]\n",
    "y = dfReviewsDb[\"label\"]\n",
    "\n",
    "X_train, X_test, y_train, y_test = train_test_split(X, y, test_size=0.20, random_state=69)"
   ],
   "metadata": {
    "collapsed": false,
    "pycharm": {
     "name": "#%%\n"
    }
   }
  },
  {
   "cell_type": "code",
   "execution_count": 5,
   "outputs": [],
   "source": [
    "vect = CountVectorizer(max_features=1000)\n",
    "\n",
    "X_train_vect = vect.fit_transform(X_train)\n",
    "X_test_vect = vect.transform(X_test)"
   ],
   "metadata": {
    "collapsed": false,
    "pycharm": {
     "name": "#%%\n"
    }
   }
  },
  {
   "cell_type": "code",
   "execution_count": 6,
   "outputs": [],
   "source": [
    "randomForest = pickle.load(open('model/saved/finalized_random_model_best_params2.sav', 'rb'))"
   ],
   "metadata": {
    "collapsed": false,
    "pycharm": {
     "name": "#%%\n"
    }
   }
  },
  {
   "cell_type": "code",
   "execution_count": 14,
   "outputs": [],
   "source": [
    "y_pred = randomForest.predict(X_test_vect)\n",
    "y_prob = randomForest.predict_proba(X_test_vect)[::, 1]"
   ],
   "metadata": {
    "collapsed": false,
    "pycharm": {
     "name": "#%%\n"
    }
   }
  },
  {
   "cell_type": "code",
   "execution_count": 15,
   "outputs": [
    {
     "name": "stdout",
     "output_type": "stream",
     "text": [
      "Accuracy: 92.12%\n",
      "Confusion Matrix:\n",
      " [[   661  31751]\n",
      " [   742 379453]]\n",
      "AUC: \n",
      " 0.6965041215355987\n"
     ]
    }
   ],
   "source": [
    "print(\"Accuracy: {:.2f}%\".format(accuracy_score(y_test, y_pred) * 100))\n",
    "print(\"Confusion Matrix:\\n\", confusion_matrix(y_test, y_pred))\n",
    "print(\"AUC: \\n\", roc_auc_score(y_test, y_prob))"
   ],
   "metadata": {
    "collapsed": false,
    "pycharm": {
     "name": "#%%\n"
    }
   }
  },
  {
   "cell_type": "code",
   "execution_count": 8,
   "outputs": [],
   "source": [
    "import pickle\n",
    "filename = 'finalized_model_best_params.sav'\n",
    "pickle.dump(randomForest, open(filename, 'wb'))"
   ],
   "metadata": {
    "collapsed": false,
    "pycharm": {
     "name": "#%%\n"
    }
   }
  },
  {
   "cell_type": "markdown",
   "source": [
    "## Cleaning data from Hotel_Reviews.csv"
   ],
   "metadata": {
    "collapsed": false
   }
  },
  {
   "cell_type": "code",
   "execution_count": 2,
   "outputs": [
    {
     "name": "stderr",
     "output_type": "stream",
     "text": [
      "E:\\Roy Dijkstra\\School\\BigData\\BDSE\\Individual Assignment 1\\textCleaning.py:17: SettingWithCopyWarning: \n",
      "A value is trying to be set on a copy of a slice from a DataFrame.\n",
      "Try using .loc[row_indexer,col_indexer] = value instead\n",
      "\n",
      "See the caveats in the documentation: https://pandas.pydata.org/pandas-docs/stable/user_guide/indexing.html#returning-a-view-versus-a-copy\n",
      "  dfStrippedReviews[\"Review\"] = dfReviews[\"Negative_Review\"].apply(lambda x: x.replace(\"No Negative\", \"\")) + \\\n"
     ]
    }
   ],
   "source": [
    "start_time = time.time()\n",
    "\n",
    "dfReviews = pd.read_csv(\"Hotel_Reviews.csv\")\n",
    "dfReviews = tc.kaggle_strip_reviews(dfReviews)\n",
    "dfReviews = tc.kaggle_label_data(dfReviews)"
   ],
   "metadata": {
    "collapsed": false,
    "pycharm": {
     "name": "#%%\n"
    }
   }
  },
  {
   "cell_type": "code",
   "execution_count": 4,
   "outputs": [],
   "source": [
    "dfReviews = tc.clean_data(dfReviews)\n",
    "\n",
    "end_time = time.time()"
   ],
   "metadata": {
    "collapsed": false,
    "pycharm": {
     "name": "#%%\n"
    }
   }
  },
  {
   "cell_type": "code",
   "execution_count": 6,
   "outputs": [
    {
     "name": "stdout",
     "output_type": "stream",
     "text": [
      "Inserting data into database per 10000 rows\n"
     ]
    }
   ],
   "source": [
    "db.insert_df_into_db(dfReviews, \"cleanedhoteldata\", \"append\")"
   ],
   "metadata": {
    "collapsed": false,
    "pycharm": {
     "name": "#%%\n"
    }
   }
  },
  {
   "cell_type": "code",
   "execution_count": 7,
   "outputs": [
    {
     "name": "stdout",
     "output_type": "stream",
     "text": [
      "282.41862750053406\n"
     ]
    }
   ],
   "source": [
    "time_lapsed = end_time - start_time\n",
    "print(time_lapsed)"
   ],
   "metadata": {
    "collapsed": false,
    "pycharm": {
     "name": "#%%\n"
    }
   }
  },
  {
   "cell_type": "markdown",
   "source": [
    "### Clean own data"
   ],
   "metadata": {
    "collapsed": false
   }
  },
  {
   "cell_type": "code",
   "execution_count": 3,
   "outputs": [],
   "source": [
    "dfReviewsOwn = pd.read_csv(\"data/own_reviews.csv\", sep=',')\n",
    "dfReviewsOwn = tc.own_label_data(dfReviewsOwn)\n",
    "dfReviewsOwn = tc.clean_data(dfReviewsOwn)"
   ],
   "metadata": {
    "collapsed": false,
    "pycharm": {
     "name": "#%%\n"
    }
   }
  },
  {
   "cell_type": "markdown",
   "source": [
    "#### Insert own data into cleanedhoteldata database"
   ],
   "metadata": {
    "collapsed": false
   }
  },
  {
   "cell_type": "code",
   "execution_count": null,
   "outputs": [],
   "source": [
    "db.insert_df_into_db(dfReviewsOwn, \"cleanedhoteldata\", \"append\")"
   ],
   "metadata": {
    "collapsed": false,
    "pycharm": {
     "name": "#%%\n"
    }
   }
  },
  {
   "cell_type": "code",
   "execution_count": null,
   "outputs": [],
   "source": [
    "dfReviews = db.retrieve_table_into_df('cleanedhoteldata')\n",
    "svm = build.build_svm(dfReviews)\n",
    "filename = 'model/svm_best_params.sav'\n",
    "pickle.dump(randomForest, open(filename, 'wb'))"
   ],
   "metadata": {
    "collapsed": false,
    "pycharm": {
     "name": "#%%\n"
    }
   }
  },
  {
   "cell_type": "code",
   "execution_count": 14,
   "outputs": [],
   "source": [
    "dfReviewsOwn = db.retrieve_table_into_df('scrappedrawhoteldata')\n",
    "dfReviewsOwn = tc.clean_data(dfReviewsOwn)"
   ],
   "metadata": {
    "collapsed": false,
    "pycharm": {
     "name": "#%%\n"
    }
   }
  },
  {
   "cell_type": "code",
   "execution_count": 15,
   "outputs": [],
   "source": [
    "Xown = dfReviewsOwn['lemReviews']\n",
    "Yown = dfReviewsOwn['label']\n",
    "\n",
    "Xown_vect = vect.transform(Xown)"
   ],
   "metadata": {
    "collapsed": false,
    "pycharm": {
     "name": "#%%\n"
    }
   }
  },
  {
   "cell_type": "code",
   "execution_count": 12,
   "outputs": [
    {
     "name": "stdout",
     "output_type": "stream",
     "text": [
      "Accuracy: 94.17%\n",
      "Confusion Matrix:\n",
      " [[  2  14]\n",
      " [  0 224]]\n",
      "AUC: \n",
      " 0.7672991071428572\n"
     ]
    }
   ],
   "source": [
    "y_pred = randomForest.predict(Xown_vect)\n",
    "y_prob = randomForest.predict_proba(Xown_vect)[::, 1]\n",
    "print(\"Accuracy: {:.2f}%\".format(accuracy_score(Yown, y_pred) * 100))\n",
    "print(\"Confusion Matrix:\\n\", confusion_matrix(Yown, y_pred))\n",
    "print(\"AUC: \\n\", roc_auc_score(Yown, y_prob))"
   ],
   "metadata": {
    "collapsed": false,
    "pycharm": {
     "name": "#%%\n"
    }
   }
  },
  {
   "cell_type": "code",
   "execution_count": 12,
   "outputs": [],
   "source": [
    "df = soup.soup_scrapper_booking(\"https://www.booking.com/reviews/nl/hotel/westcord-city-centre.en-gb.html\", num_of_pages=10)"
   ],
   "metadata": {
    "collapsed": false,
    "pycharm": {
     "name": "#%%\n"
    }
   }
  },
  {
   "cell_type": "code",
   "execution_count": 13,
   "outputs": [
    {
     "name": "stdout",
     "output_type": "stream",
     "text": [
      "Inserting data into database per 10000 rows\n"
     ]
    }
   ],
   "source": [
    "db.insert_df_into_db(df, 'scrappedrawbookinghoteldata', 'append')"
   ],
   "metadata": {
    "collapsed": false,
    "pycharm": {
     "name": "#%%\n"
    }
   }
  },
  {
   "cell_type": "code",
   "execution_count": 15,
   "outputs": [],
   "source": [
    "dfTrip = db.retrieve_table_into_df('scrappedrawtriphoteldata')\n",
    "dfTrip.to_csv('trip_reviews.csv', index=False)"
   ],
   "metadata": {
    "collapsed": false,
    "pycharm": {
     "name": "#%%\n"
    }
   }
  },
  {
   "cell_type": "code",
   "execution_count": 3,
   "outputs": [],
   "source": [
    "df = tc.clean_data(df)"
   ],
   "metadata": {
    "collapsed": false,
    "pycharm": {
     "name": "#%%\n"
    }
   }
  },
  {
   "cell_type": "code",
   "execution_count": null,
   "outputs": [],
   "source": [
    "Xsoup = df['lemReviews']\n",
    "Ysoup = df['label']\n",
    "\n",
    "Xsoup_vect = vect.transform(Xown)"
   ],
   "metadata": {
    "collapsed": false,
    "pycharm": {
     "name": "#%%\n"
    }
   }
  },
  {
   "cell_type": "code",
   "execution_count": 11,
   "outputs": [
    {
     "name": "stdout",
     "output_type": "stream",
     "text": [
      "Accuracy: 94.17%\n",
      "Confusion Matrix:\n",
      " [[  2  14]\n",
      " [  0 224]]\n",
      "AUC: \n",
      " 0.7672991071428572\n"
     ]
    }
   ],
   "source": [
    "y_pred = randomForest.predict(Xsoup_vect)\n",
    "y_prob = randomForest.predict_proba(Xsoup_vect)[::, 1]\n",
    "print(\"Accuracy: {:.2f}%\".format(accuracy_score(Ysoup, y_pred) * 100))\n",
    "print(\"Confusion Matrix:\\n\", confusion_matrix(Ysoup, y_pred))\n",
    "print(\"AUC: \\n\", roc_auc_score(Yown, y_prob))"
   ],
   "metadata": {
    "collapsed": false,
    "pycharm": {
     "name": "#%%\n"
    }
   }
  },
  {
   "cell_type": "code",
   "execution_count": 2,
   "outputs": [
    {
     "name": "stderr",
     "output_type": "stream",
     "text": [
      "E:\\Roy Dijkstra\\School\\BigData\\BDSE\\Individual_Assignment_1\\textCleaning.py:23: SettingWithCopyWarning: \n",
      "A value is trying to be set on a copy of a slice from a DataFrame.\n",
      "Try using .loc[row_indexer,col_indexer] = value instead\n",
      "\n",
      "See the caveats in the documentation: https://pandas.pydata.org/pandas-docs/stable/user_guide/indexing.html#returning-a-view-versus-a-copy\n",
      "  dfStrippedReviews[\"Review\"] = dfReviews[\"Negative_Review\"].apply(lambda x: x.replace(\"No Negative\", \"\")) + \\\n"
     ]
    }
   ],
   "source": [
    "#randomForest = pickle.load(open('model/saved/finalized_random_model_best_params4.sav', 'rb'))\n",
    "dfReviewsOwn = pd.read_csv('data/own_reviews.csv')\n",
    "dfReviewsOwn = tc.own_label_data(dfReviewsOwn)\n",
    "dfReviewsOwn = tc.clean_data(dfReviewsOwn)\n",
    "dfTrip = pd.read_csv('data/trip_reviews.csv')\n",
    "dfBooking = pd.read_csv('data/booking_reviews.csv')\n",
    "dfHotels = pd.concat([dfBooking, dfTrip], ignore_index=True)\n",
    "dfHotels = dfHotels[['Review', 'label']]\n",
    "dfHotels = dfHotels.dropna()\n",
    "dfHotels = tc.clean_data(dfHotels)\n",
    "dfHotels = dfHotels.replace(r'^\\s*$',np.nan, regex=True)\n",
    "dfHotels = dfHotels.dropna()\n",
    "dfKaggle = pd.read_csv(\"data/Hotel_Reviews.csv\")\n",
    "dfKaggle = tc.kaggle_strip_reviews(dfKaggle)\n",
    "dfKaggle = tc.kaggle_label_data(dfKaggle)\n",
    "dfKaggle = tc.clean_data(dfKaggle)\n"
   ],
   "metadata": {
    "collapsed": false,
    "pycharm": {
     "name": "#%%\n"
    }
   }
  },
  {
   "cell_type": "code",
   "execution_count": 3,
   "outputs": [],
   "source": [
    "dfCombined = pd.concat([dfKaggle, dfHotels, dfReviewsOwn], ignore_index=True)"
   ],
   "metadata": {
    "collapsed": false,
    "pycharm": {
     "name": "#%%\n"
    }
   }
  },
  {
   "cell_type": "code",
   "execution_count": 17,
   "outputs": [],
   "source": [
    "X_train, X_test, y_train, y_test = train_test_split(X, y, test_size=0.20, random_state=69)\n",
    "\n",
    "vect = TfidfVectorizer(stop_words='english', ngram_range=(1, 2))\n",
    "X_train_vect = vect.fit_transform(X_train)\n",
    "X_test_vect = vect.transform(X_test)"
   ],
   "metadata": {
    "collapsed": false,
    "pycharm": {
     "name": "#%%\n"
    }
   }
  },
  {
   "cell_type": "code",
   "execution_count": 48,
   "outputs": [],
   "source": [
    "X = dfCombined['lemReviews']\n",
    "y = dfCombined['label']"
   ],
   "metadata": {
    "collapsed": false,
    "pycharm": {
     "name": "#%%\n"
    }
   }
  },
  {
   "cell_type": "code",
   "execution_count": 40,
   "outputs": [],
   "source": [
    "model = pickle.load(open('model/saved/finalized_lr_model_best_params2.sav', 'rb'))"
   ],
   "metadata": {
    "collapsed": false,
    "pycharm": {
     "name": "#%%\n"
    }
   }
  },
  {
   "cell_type": "code",
   "execution_count": 49,
   "outputs": [
    {
     "name": "stdout",
     "output_type": "stream",
     "text": [
      "Accuracy: 98.18%\n",
      "Confusion Matrix:\n",
      " [[ 33553   6939]\n",
      " [  2469 473233]]\n",
      "AUC: \n",
      " 0.9812581689297968\n",
      "Precision: \n",
      " 0.9813058966645906\n",
      "Recall: \n",
      " 0.9817742941607225\n"
     ]
    }
   ],
   "source": [
    "vect = pickle.load(open('model/saved/lrvect.sav', 'rb'))\n",
    "\n",
    "X_test_vect = vect.transform(X)\n",
    "y_pred = model.predict(X_test_vect)\n",
    "y_prob = model.predict_proba(X_test_vect)[::, 1]\n",
    "print(\"Accuracy: {:.2f}%\".format(accuracy_score(y, y_pred) * 100))\n",
    "print(\"Confusion Matrix:\\n\", confusion_matrix(y, y_pred))\n",
    "print(\"AUC: \\n\", roc_auc_score(y, y_prob))\n",
    "print(\"Precision: \\n\", precision_score(y, y_pred, average='weighted'))\n",
    "print(\"Recall: \\n\", recall_score(y, y_pred, average='weighted'))"
   ],
   "metadata": {
    "collapsed": false,
    "pycharm": {
     "name": "#%%\n"
    }
   }
  }
 ],
 "metadata": {
  "kernelspec": {
   "display_name": "Python 3",
   "language": "python",
   "name": "python3"
  },
  "language_info": {
   "codemirror_mode": {
    "name": "ipython",
    "version": 2
   },
   "file_extension": ".py",
   "mimetype": "text/x-python",
   "name": "python",
   "nbconvert_exporter": "python",
   "pygments_lexer": "ipython2",
   "version": "2.7.6"
  }
 },
 "nbformat": 4,
 "nbformat_minor": 0
}