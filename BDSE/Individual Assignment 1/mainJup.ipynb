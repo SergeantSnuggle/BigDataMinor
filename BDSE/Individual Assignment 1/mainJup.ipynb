{
 "cells": [
  {
   "cell_type": "markdown",
   "source": [
    "# Load all libraries\n",
    "These are all the libraries needed in this file"
   ],
   "metadata": {
    "collapsed": false,
    "pycharm": {
     "name": "#%% md\n"
    }
   }
  },
  {
   "cell_type": "code",
   "source": [
    "import pandas as pd\n",
    "from sklearn.ensemble import RandomForestClassifier\n",
    "from sklearn.model_selection import train_test_split, RandomizedSearchCV\n",
    "from sklearn.feature_extraction.text import CountVectorizer\n",
    "import numpy as np\n",
    "import time\n",
    "\"Own made libraries\"\n",
    "import database as db\n",
    "import scrapping.scrapperSelenium as scrapperSelenium\n",
    "import scrapping.scrapperSoup as scrapperSoup\n",
    "import textCleaning as tc"
   ],
   "metadata": {
    "collapsed": false,
    "pycharm": {
     "name": "#%%\n"
    }
   },
   "execution_count": 1,
   "outputs": [
    {
     "name": "stderr",
     "output_type": "stream",
     "text": [
      "[nltk_data] Downloading package wordnet to C:\\Users\\Roy\n",
      "[nltk_data]     Dijkstra\\AppData\\Roaming\\nltk_data...\n",
      "[nltk_data]   Package wordnet is already up-to-date!\n",
      "[nltk_data] Downloading package stopwords to C:\\Users\\Roy\n",
      "[nltk_data]     Dijkstra\\AppData\\Roaming\\nltk_data...\n",
      "[nltk_data]   Package stopwords is already up-to-date!\n",
      "[nltk_data] Downloading package omw-1.4 to C:\\Users\\Roy\n",
      "[nltk_data]     Dijkstra\\AppData\\Roaming\\nltk_data...\n",
      "[nltk_data]   Package omw-1.4 is already up-to-date!\n"
     ]
    }
   ]
  },
  {
   "cell_type": "code",
   "execution_count": 2,
   "outputs": [
    {
     "name": "stderr",
     "output_type": "stream",
     "text": [
      "E:\\Roy Dijkstra\\School\\BigData\\BDSE\\Individual Assignment 1\\textCleaning.py:17: SettingWithCopyWarning: \n",
      "A value is trying to be set on a copy of a slice from a DataFrame.\n",
      "Try using .loc[row_indexer,col_indexer] = value instead\n",
      "\n",
      "See the caveats in the documentation: https://pandas.pydata.org/pandas-docs/stable/user_guide/indexing.html#returning-a-view-versus-a-copy\n",
      "  dfStrippedReviews[\"Review\"] = dfReviews[\"Negative_Review\"].apply(lambda x: x.replace(\"No Negative\", \"\")) + \\\n"
     ]
    }
   ],
   "source": [
    "start_time = time.time()\n",
    "\n",
    "dfReviews = pd.read_csv(\"Hotel_Reviews.csv\")\n",
    "dfReviews = tc.kaggle_strip_reviews(dfReviews)\n",
    "dfReviews = tc.kaggle_label_data(dfReviews)"
   ],
   "metadata": {
    "collapsed": false,
    "pycharm": {
     "name": "#%%\n"
    }
   }
  },
  {
   "cell_type": "code",
   "execution_count": 3,
   "outputs": [],
   "source": [
    "# dfNegative = pd.read_csv(\"negative_hotel_reviews10k.csv\")\n",
    "# dfPositive = pd.read_csv(\"positive_hotel_reviews10k.csv\")\n",
    "# dfReviews = pd.concat([dfNegative, dfPositive], ignore_index=True)"
   ],
   "metadata": {
    "collapsed": false,
    "pycharm": {
     "name": "#%%\n"
    }
   }
  },
  {
   "cell_type": "code",
   "execution_count": 4,
   "outputs": [],
   "source": [
    "dfReviews['processedReviews'] = tc.preprocess_review(dfReviews['Review'])\n",
    "dfReviews['stopwordsReviews'] = tc.remove_stop_words(dfReviews['processedReviews'])\n",
    "dfReviews['stemmedReviews'] = tc.stem_text(dfReviews['stopwordsReviews'])\n",
    "dfReviews['lemReviews'] = tc.lem_text(dfReviews['stemmedReviews'])\n",
    "end_time = time.time()"
   ],
   "metadata": {
    "collapsed": false,
    "pycharm": {
     "name": "#%%\n"
    }
   }
  },
  {
   "cell_type": "code",
   "source": [
    "# dfNegative['processedReviews'] = tc.preprocess_review(dfNegative['Review'])\n",
    "# dfPositive['processedReviews'] = tc.preprocess_review(dfPositive['Review'])\n",
    "# dfNegative['stopwordsReviews'] = tc.remove_stop_words(dfNegative['processedReviews'])\n",
    "# dfPositive['stopwordsReviews'] = tc.remove_stop_words(dfPositive['processedReviews'])\n",
    "# dfNegative['stemmedReviews'] = tc.stem_text(dfNegative['stopwordsReviews'])\n",
    "# dfPositive['stemmedReviews'] = tc.stem_text(dfPositive['stopwordsReviews'])\n",
    "# dfNegative['lemReviews'] = tc.lem_text(dfNegative['stemmedReviews'])\n",
    "# dfPositive['lemReviews'] = tc.lem_text(dfPositive['stemmedReviews'])"
   ],
   "metadata": {
    "collapsed": false,
    "pycharm": {
     "name": "#%%\n"
    }
   },
   "execution_count": 5,
   "outputs": []
  },
  {
   "cell_type": "code",
   "execution_count": 6,
   "outputs": [
    {
     "name": "stdout",
     "output_type": "stream",
     "text": [
      "Inserting data into database per 10000 rows\n"
     ]
    }
   ],
   "source": [
    "db.insert_df_into_db(dfReviews, \"cleanedhoteldata\", \"append\")"
   ],
   "metadata": {
    "collapsed": false,
    "pycharm": {
     "name": "#%%\n"
    }
   }
  },
  {
   "cell_type": "code",
   "execution_count": 7,
   "outputs": [
    {
     "name": "stdout",
     "output_type": "stream",
     "text": [
      "282.41862750053406\n"
     ]
    }
   ],
   "source": [
    "time_lapsed = end_time - start_time\n",
    "print(time_lapsed)"
   ],
   "metadata": {
    "collapsed": false,
    "pycharm": {
     "name": "#%%\n"
    }
   }
  }
 ],
 "metadata": {
  "kernelspec": {
   "display_name": "Python 3",
   "language": "python",
   "name": "python3"
  },
  "language_info": {
   "codemirror_mode": {
    "name": "ipython",
    "version": 2
   },
   "file_extension": ".py",
   "mimetype": "text/x-python",
   "name": "python",
   "nbconvert_exporter": "python",
   "pygments_lexer": "ipython2",
   "version": "2.7.6"
  }
 },
 "nbformat": 4,
 "nbformat_minor": 0
}